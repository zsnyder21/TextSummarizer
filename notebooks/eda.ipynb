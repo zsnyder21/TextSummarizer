{
 "cells": [
  {
   "cell_type": "code",
   "execution_count": 1,
   "metadata": {
    "collapsed": true
   },
   "outputs": [],
   "source": [
    "import pandas as pd"
   ]
  },
  {
   "cell_type": "code",
   "execution_count": 36,
   "outputs": [],
   "source": [
    "df = pd.read_pickle(\"../data/comments.pkl\")"
   ],
   "metadata": {
    "collapsed": false,
    "pycharm": {
     "name": "#%%\n"
    }
   }
  },
  {
   "cell_type": "code",
   "execution_count": 3,
   "outputs": [
    {
     "data": {
      "text/plain": "array(['ablzuq', 'l7530r', 'f08dxb', 'iwedc5', 'draola', 'kr8op6',\n       '9whgf4'], dtype=object)"
     },
     "execution_count": 3,
     "metadata": {},
     "output_type": "execute_result"
    }
   ],
   "source": [
    "df[\"SubmissionId\"].unique()"
   ],
   "metadata": {
    "collapsed": false,
    "pycharm": {
     "name": "#%%\n"
    }
   }
  },
  {
   "cell_type": "code",
   "execution_count": 4,
   "outputs": [
    {
     "name": "stdout",
     "output_type": "stream",
     "text": [
      "<class 'pandas.core.frame.DataFrame'>\n",
      "Int64Index: 80379 entries, 0 to 19999\n",
      "Data columns (total 19 columns):\n",
      " #   Column           Non-Null Count  Dtype  \n",
      "---  ------           --------------  -----  \n",
      " 0   CommentId        80379 non-null  object \n",
      " 1   AuthorId         72505 non-null  object \n",
      " 2   AuthorName       72505 non-null  object \n",
      " 3   UserSuspended    80379 non-null  bool   \n",
      " 4   UserDeleted      80379 non-null  bool   \n",
      " 5   CreatedUTC       80379 non-null  float64\n",
      " 6   Distinguished    4 non-null      object \n",
      " 7   Edited           80379 non-null  object \n",
      " 8   IsSubmitter      80379 non-null  bool   \n",
      " 9   LinkId           80379 non-null  object \n",
      " 10  ParentCommentId  80379 non-null  object \n",
      " 11  Permalink        80379 non-null  object \n",
      " 12  CommentScore     80379 non-null  int64  \n",
      " 13  Stickied         80379 non-null  bool   \n",
      " 14  SubmissionId     80379 non-null  object \n",
      " 15  UpvoteRatio      80379 non-null  float64\n",
      " 16  SubmissionScore  80379 non-null  int64  \n",
      " 17  SubredditId      80379 non-null  object \n",
      " 18  CommentBody      80379 non-null  object \n",
      "dtypes: bool(4), float64(2), int64(2), object(11)\n",
      "memory usage: 10.1+ MB\n"
     ]
    }
   ],
   "source": [
    "df.info()"
   ],
   "metadata": {
    "collapsed": false,
    "pycharm": {
     "name": "#%%\n"
    }
   }
  },
  {
   "cell_type": "code",
   "execution_count": 5,
   "outputs": [
    {
     "data": {
      "text/plain": "7"
     },
     "execution_count": 5,
     "metadata": {},
     "output_type": "execute_result"
    }
   ],
   "source": [
    "df[\"SubmissionId\"].nunique()"
   ],
   "metadata": {
    "collapsed": false,
    "pycharm": {
     "name": "#%%\n"
    }
   }
  },
  {
   "cell_type": "code",
   "execution_count": 42,
   "outputs": [
    {
     "data": {
      "text/plain": "27425    6985\n10667    6703\n8797     6682\n15028    6214\n23182    6010\n         ... \n55473       1\n55472       1\n80378       1\n64171       0\n44171       0\nName: CommentBody, Length: 80379, dtype: int64"
     },
     "execution_count": 42,
     "metadata": {},
     "output_type": "execute_result"
    }
   ],
   "source": [
    "df[\"CommentBody\"].map(len).sort_values(ascending=False)\n",
    "# df[\"CommentBody\"].iloc[df[\"CommentBody\"].map(len).sort_values(ascending=False).index].values[]"
   ],
   "metadata": {
    "collapsed": false,
    "pycharm": {
     "name": "#%%\n"
    }
   }
  },
  {
   "cell_type": "code",
   "execution_count": 45,
   "outputs": [
    {
     "data": {
      "text/plain": "'I’m curious, do you know how much your unemployment benefit is? Here in Australia it is $40/day and almost everybody, except the current government, even the business community, have been saying for a really long time - years in fact - that it simply is not enough. As you say, rent, bills for electricity and/or gas, phone and food. That’s before you look at the other expenses like clothes, transport whether it be public transport (which is getting more and more expensive) or private, meaning you also have the added expenses of registration, insurance and petrol. Not to mention car repairs and servicing etc. When you go for a job interview you need to look clean and tidy at the very minimum. Oh and internet. It’s very hard in our current society to survive without the internet, which of course also means paying for the internet and having an operating computer to access it on plus it is usually expected that you will have a mobile phone.\\n\\nAlso, you guys (you are in the US right?) have food stamps. I’m not even sure what they are. We don’t have them here,  we have places like the Salvation Army or St. Vincent de Paul. Charities essential. They can give you a “gift card” which is essentially like a debit card except you are barred from buying alcohol, cigarettes or gambling on them. They are just for food and other basics you get at the supermarket and you have to go through an interview to get them to prove you need it. You normally get 1 x $50 or if you are lucky maybe 2 x $50 one if you have dependents)... I’ve had to use them in the past and although I have been exceedingly grateful for the help the pieces to get them can be quite embarrassing and humiliating as they ask you all sorts if details about your financial circumstances and what you money gets spent on etc etc. They expect that to be all that to be written out and a letter from the governments social security department stating exactly what you are getting from them. When you get “paid” your unemployment benefit it’s more or less spent already. I’m a little luckier (not really but sort of) because I’m on the DSP - the Disability Support Pension, which means I cannot work at all) and by the end of the day after my rent & electricity are paid (I have them direct debited out on the day my pension goes in so they are always paid) I have $200/fortnight for ALL my other expenses. That basically means there is A LOT I go without and paying for things like internet, car and phone just to start with is very stressful.\\n\\nWe have a fundraiser every year where CEO’s sleep out like homeless people do but it’s only for one night so it’s really NOT a serious effort to try and understand. I’d like to see all our politicians have to spend at least 1 month surviving on the unemployment benefit or other benefits like the DSP or aged pension (which is even less), then see if they still have the same hard nosed attitudes they normally take! They say “it’s a hand up not a hand out” it’s just to tide them over... blah blah blah.... that’s okay if you’ve got loads of experience and a great college or university education plus loads of experience behind you but most people on those payments do not fall into that category. They are generally poor, do not have a college degree, have only ever worked casual jobs or post time jobs or jobs that are menial. What’s even more important is that there ARE JOBS AVAILABLE... which is not looking great atm because many businesses are closing because they simply can’t survive without customers during this pandemic... especially in stead like tourism, hospitality, the arts - including the movie industry, live plays, live music etc. So many great restaurants are closing because they simply cannot afford to keep executive chefs and other staff on just for take away food.\\n\\nNow, with Covid-19 and so many businesses being unable to operate or not getting enough business to survive and the unemployment numbers rising steadily what’s going to happen??\\n\\nIt’s the poor and the working poor that are going to suffer. People like Donald Trump, Joe Biden and all the other super rich people have NO IDEA.... ABSOLUTELY NO IDEA WHAT IT’S LIKE!\\n\\nIt’s the same in every country. In mine our Prime Minister is saying that the social security payments are supposed to be there to help people through a difficult time and to find another job. What if there aren’t more jobs though? While hundreds of thousands of people are losing their jobs and this is the worst global recession since the 1930’s where are people going to find these jobs? The “jobs of the future”. Oh and they say they are funding re-education but it’s the type where you get to choose between 2 or if you are lucky 3 courses, certificates, like aged care or a fork lift licence etc when what they really should fund are course through educational facilities that teach a range of courses that people can select according to their abilities and interests.\\n\\nI am grateful though that I do live in Australia because as an island nation we have been able to quarantine ourselves from the rest of the world to a certain degree. Not completely and we are in the middle of a second wave in one of our most populated states that is much much worse than the first wave. Now we are getting a lot more community transmission instead of it being people returning from overseas so it is extremely concerning.\\n\\nI feel so bad for the people in the USA but cannot understand how people think it isn’t real and it’s all a conspiracy and go about as if nothing is happening while you have thousands of new cases every day and thousands of deaths. At least her in Australia we are ask happy to follow all the health advice of our experts. We have mandatory quarantine for those returning from overseas, we self quarantine if we have even the remotest symptoms and get tests ASAP and remain in quarantine until we get the test results (well most of us do, there are still a few idiots who want to spoil it for everyone). We wear masks when outside, use disposable gloves when shopping, don’t contestants in large groups (mostly... we did have some very big protest marches for the black lives matter movement... who knows if sooner if our community transmission cases have come from those) but generally we are a cooperative population that can see that what we are being asked to do is for the greater good so we are happy to do as we are asked. It seems people in the United States are not so United on this and I wonder how this is and will effect businesses not and in the future??\\n\\nSorry this is such a long comment but what you said was very interesting and immediately my mind was full of all the advice stuff.... lol 😝😬'"
     },
     "execution_count": 45,
     "metadata": {},
     "output_type": "execute_result"
    }
   ],
   "source": [
    "df.reindex(df[\"CommentBody\"].map(len).sort_values(ascending=False).index)[\"CommentBody\"].values[1]"
   ],
   "metadata": {
    "collapsed": false,
    "pycharm": {
     "name": "#%%\n"
    }
   }
  },
  {
   "cell_type": "code",
   "execution_count": 41,
   "outputs": [
    {
     "data": {
      "text/plain": "RangeIndex(start=0, stop=80379, step=1)"
     },
     "execution_count": 41,
     "metadata": {},
     "output_type": "execute_result"
    }
   ],
   "source": [
    "df.index"
   ],
   "metadata": {
    "collapsed": false,
    "pycharm": {
     "name": "#%%\n"
    }
   }
  },
  {
   "cell_type": "code",
   "execution_count": 40,
   "outputs": [],
   "source": [
    "df.index = range(len(df))"
   ],
   "metadata": {
    "collapsed": false,
    "pycharm": {
     "name": "#%%\n"
    }
   }
  },
  {
   "cell_type": "code",
   "execution_count": null,
   "outputs": [],
   "source": [],
   "metadata": {
    "collapsed": false,
    "pycharm": {
     "name": "#%%\n"
    }
   }
  }
 ],
 "metadata": {
  "kernelspec": {
   "display_name": "Python 3",
   "language": "python",
   "name": "python3"
  },
  "language_info": {
   "codemirror_mode": {
    "name": "ipython",
    "version": 2
   },
   "file_extension": ".py",
   "mimetype": "text/x-python",
   "name": "python",
   "nbconvert_exporter": "python",
   "pygments_lexer": "ipython2",
   "version": "2.7.6"
  }
 },
 "nbformat": 4,
 "nbformat_minor": 0
}